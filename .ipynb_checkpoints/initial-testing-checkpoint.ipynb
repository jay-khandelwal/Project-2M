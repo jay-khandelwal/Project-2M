{
 "cells": [
  {
   "cell_type": "code",
   "execution_count": 1,
   "id": "be1cee4b-bb9f-4e57-a0ea-18e51f4969ca",
   "metadata": {},
   "outputs": [],
   "source": [
    "import pandas as pd\n"
   ]
  },
  {
   "cell_type": "code",
   "execution_count": 2,
   "id": "9d801254-d80e-4614-9d71-d62cde379308",
   "metadata": {},
   "outputs": [],
   "source": [
    "df = pd.read_json('data.json')\n"
   ]
  },
  {
   "cell_type": "code",
   "execution_count": 3,
   "id": "2c67397a-06bf-4bfd-94d9-b74db0883baf",
   "metadata": {},
   "outputs": [
    {
     "data": {
      "text/html": [
       "<div>\n",
       "<style scoped>\n",
       "    .dataframe tbody tr th:only-of-type {\n",
       "        vertical-align: middle;\n",
       "    }\n",
       "\n",
       "    .dataframe tbody tr th {\n",
       "        vertical-align: top;\n",
       "    }\n",
       "\n",
       "    .dataframe thead th {\n",
       "        text-align: right;\n",
       "    }\n",
       "</style>\n",
       "<table border=\"1\" class=\"dataframe\">\n",
       "  <thead>\n",
       "    <tr style=\"text-align: right;\">\n",
       "      <th></th>\n",
       "      <th>X-Youtube-Ad-Signals</th>\n",
       "      <th>COOKIE__YSC</th>\n",
       "      <th>User-Agent</th>\n",
       "      <th>Sec-Fetch-Dest</th>\n",
       "      <th>Accept-Encoding</th>\n",
       "      <th>X-Youtube-Time-Zone</th>\n",
       "      <th>Sec-Fetch-Mode</th>\n",
       "      <th>path</th>\n",
       "      <th>Te</th>\n",
       "      <th>X-Youtube-Client-Name</th>\n",
       "      <th>...</th>\n",
       "      <th>COOKIE___gid</th>\n",
       "      <th>COOKIE___ga</th>\n",
       "      <th>COOKIE___ga_M7VXWVP0TD</th>\n",
       "      <th>Sec-Fetch-User</th>\n",
       "      <th>COOKIE___ga_VQ1QGHKQ93</th>\n",
       "      <th>COOKIE__AWSALBCORS</th>\n",
       "      <th>COOKIE__AWSALB</th>\n",
       "      <th>COOKIE___gcl_au</th>\n",
       "      <th>COOKIE___ga_3DSEMMB7M5</th>\n",
       "      <th>COOKIE___ga_ES3HMQNR8X</th>\n",
       "    </tr>\n",
       "  </thead>\n",
       "  <tbody>\n",
       "    <tr>\n",
       "      <th>0</th>\n",
       "      <td>dt=1720145299310&amp;flash=0&amp;frm=2&amp;u_tz=330&amp;u_his=...</td>\n",
       "      <td>JXd_iPLJK9Q</td>\n",
       "      <td>Mozilla/5.0 (Macintosh; Intel Mac OS X 10.15; ...</td>\n",
       "      <td>empty</td>\n",
       "      <td>gzip, deflate, br</td>\n",
       "      <td>Asia/Kolkata</td>\n",
       "      <td>cors</td>\n",
       "      <td>/api/stats/watchtime</td>\n",
       "      <td>trailers</td>\n",
       "      <td>56.0</td>\n",
       "      <td>...</td>\n",
       "      <td>NaN</td>\n",
       "      <td>NaN</td>\n",
       "      <td>NaN</td>\n",
       "      <td>NaN</td>\n",
       "      <td>NaN</td>\n",
       "      <td>NaN</td>\n",
       "      <td>NaN</td>\n",
       "      <td>NaN</td>\n",
       "      <td>NaN</td>\n",
       "      <td>NaN</td>\n",
       "    </tr>\n",
       "    <tr>\n",
       "      <th>1</th>\n",
       "      <td>NaN</td>\n",
       "      <td>NaN</td>\n",
       "      <td>Mozilla/5.0 (Macintosh; Intel Mac OS X 10.15; ...</td>\n",
       "      <td>empty</td>\n",
       "      <td>gzip, deflate, br</td>\n",
       "      <td>NaN</td>\n",
       "      <td>cors</td>\n",
       "      <td>/videoplayback</td>\n",
       "      <td>trailers</td>\n",
       "      <td>NaN</td>\n",
       "      <td>...</td>\n",
       "      <td>NaN</td>\n",
       "      <td>NaN</td>\n",
       "      <td>NaN</td>\n",
       "      <td>NaN</td>\n",
       "      <td>NaN</td>\n",
       "      <td>NaN</td>\n",
       "      <td>NaN</td>\n",
       "      <td>NaN</td>\n",
       "      <td>NaN</td>\n",
       "      <td>NaN</td>\n",
       "    </tr>\n",
       "    <tr>\n",
       "      <th>2</th>\n",
       "      <td>dt=1720145298950&amp;flash=0&amp;frm=2&amp;u_tz=330&amp;u_his=...</td>\n",
       "      <td>JXd_iPLJK9Q</td>\n",
       "      <td>Mozilla/5.0 (Macintosh; Intel Mac OS X 10.15; ...</td>\n",
       "      <td>empty</td>\n",
       "      <td>gzip, deflate, br</td>\n",
       "      <td>Asia/Kolkata</td>\n",
       "      <td>cors</td>\n",
       "      <td>/youtubei/v1/log_event</td>\n",
       "      <td>trailers</td>\n",
       "      <td>56.0</td>\n",
       "      <td>...</td>\n",
       "      <td>NaN</td>\n",
       "      <td>NaN</td>\n",
       "      <td>NaN</td>\n",
       "      <td>NaN</td>\n",
       "      <td>NaN</td>\n",
       "      <td>NaN</td>\n",
       "      <td>NaN</td>\n",
       "      <td>NaN</td>\n",
       "      <td>NaN</td>\n",
       "      <td>NaN</td>\n",
       "    </tr>\n",
       "    <tr>\n",
       "      <th>3</th>\n",
       "      <td>dt=1720145298968&amp;flash=0&amp;frm=2&amp;u_tz=330&amp;u_his=...</td>\n",
       "      <td>JXd_iPLJK9Q</td>\n",
       "      <td>Mozilla/5.0 (Macintosh; Intel Mac OS X 10.15; ...</td>\n",
       "      <td>empty</td>\n",
       "      <td>gzip, deflate, br</td>\n",
       "      <td>Asia/Kolkata</td>\n",
       "      <td>cors</td>\n",
       "      <td>/api/stats/watchtime</td>\n",
       "      <td>trailers</td>\n",
       "      <td>56.0</td>\n",
       "      <td>...</td>\n",
       "      <td>NaN</td>\n",
       "      <td>NaN</td>\n",
       "      <td>NaN</td>\n",
       "      <td>NaN</td>\n",
       "      <td>NaN</td>\n",
       "      <td>NaN</td>\n",
       "      <td>NaN</td>\n",
       "      <td>NaN</td>\n",
       "      <td>NaN</td>\n",
       "      <td>NaN</td>\n",
       "    </tr>\n",
       "    <tr>\n",
       "      <th>4</th>\n",
       "      <td>dt=1720145299310&amp;flash=0&amp;frm=2&amp;u_tz=330&amp;u_his=...</td>\n",
       "      <td>JXd_iPLJK9Q</td>\n",
       "      <td>Mozilla/5.0 (Macintosh; Intel Mac OS X 10.15; ...</td>\n",
       "      <td>empty</td>\n",
       "      <td>gzip, deflate, br</td>\n",
       "      <td>Asia/Kolkata</td>\n",
       "      <td>cors</td>\n",
       "      <td>/api/stats/watchtime</td>\n",
       "      <td>trailers</td>\n",
       "      <td>56.0</td>\n",
       "      <td>...</td>\n",
       "      <td>NaN</td>\n",
       "      <td>NaN</td>\n",
       "      <td>NaN</td>\n",
       "      <td>NaN</td>\n",
       "      <td>NaN</td>\n",
       "      <td>NaN</td>\n",
       "      <td>NaN</td>\n",
       "      <td>NaN</td>\n",
       "      <td>NaN</td>\n",
       "      <td>NaN</td>\n",
       "    </tr>\n",
       "  </tbody>\n",
       "</table>\n",
       "<p>5 rows × 63 columns</p>\n",
       "</div>"
      ],
      "text/plain": [
       "                                X-Youtube-Ad-Signals  COOKIE__YSC  \\\n",
       "0  dt=1720145299310&flash=0&frm=2&u_tz=330&u_his=...  JXd_iPLJK9Q   \n",
       "1                                                NaN          NaN   \n",
       "2  dt=1720145298950&flash=0&frm=2&u_tz=330&u_his=...  JXd_iPLJK9Q   \n",
       "3  dt=1720145298968&flash=0&frm=2&u_tz=330&u_his=...  JXd_iPLJK9Q   \n",
       "4  dt=1720145299310&flash=0&frm=2&u_tz=330&u_his=...  JXd_iPLJK9Q   \n",
       "\n",
       "                                          User-Agent Sec-Fetch-Dest  \\\n",
       "0  Mozilla/5.0 (Macintosh; Intel Mac OS X 10.15; ...          empty   \n",
       "1  Mozilla/5.0 (Macintosh; Intel Mac OS X 10.15; ...          empty   \n",
       "2  Mozilla/5.0 (Macintosh; Intel Mac OS X 10.15; ...          empty   \n",
       "3  Mozilla/5.0 (Macintosh; Intel Mac OS X 10.15; ...          empty   \n",
       "4  Mozilla/5.0 (Macintosh; Intel Mac OS X 10.15; ...          empty   \n",
       "\n",
       "     Accept-Encoding X-Youtube-Time-Zone Sec-Fetch-Mode  \\\n",
       "0  gzip, deflate, br        Asia/Kolkata           cors   \n",
       "1  gzip, deflate, br                 NaN           cors   \n",
       "2  gzip, deflate, br        Asia/Kolkata           cors   \n",
       "3  gzip, deflate, br        Asia/Kolkata           cors   \n",
       "4  gzip, deflate, br        Asia/Kolkata           cors   \n",
       "\n",
       "                     path        Te  X-Youtube-Client-Name  ... COOKIE___gid  \\\n",
       "0    /api/stats/watchtime  trailers                   56.0  ...          NaN   \n",
       "1          /videoplayback  trailers                    NaN  ...          NaN   \n",
       "2  /youtubei/v1/log_event  trailers                   56.0  ...          NaN   \n",
       "3    /api/stats/watchtime  trailers                   56.0  ...          NaN   \n",
       "4    /api/stats/watchtime  trailers                   56.0  ...          NaN   \n",
       "\n",
       "   COOKIE___ga  COOKIE___ga_M7VXWVP0TD Sec-Fetch-User COOKIE___ga_VQ1QGHKQ93  \\\n",
       "0          NaN                     NaN            NaN                    NaN   \n",
       "1          NaN                     NaN            NaN                    NaN   \n",
       "2          NaN                     NaN            NaN                    NaN   \n",
       "3          NaN                     NaN            NaN                    NaN   \n",
       "4          NaN                     NaN            NaN                    NaN   \n",
       "\n",
       "  COOKIE__AWSALBCORS COOKIE__AWSALB COOKIE___gcl_au COOKIE___ga_3DSEMMB7M5  \\\n",
       "0                NaN            NaN             NaN                    NaN   \n",
       "1                NaN            NaN             NaN                    NaN   \n",
       "2                NaN            NaN             NaN                    NaN   \n",
       "3                NaN            NaN             NaN                    NaN   \n",
       "4                NaN            NaN             NaN                    NaN   \n",
       "\n",
       "  COOKIE___ga_ES3HMQNR8X  \n",
       "0                    NaN  \n",
       "1                    NaN  \n",
       "2                    NaN  \n",
       "3                    NaN  \n",
       "4                    NaN  \n",
       "\n",
       "[5 rows x 63 columns]"
      ]
     },
     "execution_count": 3,
     "metadata": {},
     "output_type": "execute_result"
    }
   ],
   "source": [
    "df.head()"
   ]
  },
  {
   "cell_type": "code",
   "execution_count": 4,
   "id": "41bd2ae3-c482-4849-aa37-2f2fc43dabf9",
   "metadata": {},
   "outputs": [
    {
     "data": {
      "text/html": [
       "<div>\n",
       "<style scoped>\n",
       "    .dataframe tbody tr th:only-of-type {\n",
       "        vertical-align: middle;\n",
       "    }\n",
       "\n",
       "    .dataframe tbody tr th {\n",
       "        vertical-align: top;\n",
       "    }\n",
       "\n",
       "    .dataframe thead th {\n",
       "        text-align: right;\n",
       "    }\n",
       "</style>\n",
       "<table border=\"1\" class=\"dataframe\">\n",
       "  <thead>\n",
       "    <tr style=\"text-align: right;\">\n",
       "      <th></th>\n",
       "      <th>X-Youtube-Ad-Signals</th>\n",
       "      <th>COOKIE__YSC</th>\n",
       "      <th>User-Agent</th>\n",
       "      <th>Sec-Fetch-Dest</th>\n",
       "      <th>Accept-Encoding</th>\n",
       "      <th>X-Youtube-Time-Zone</th>\n",
       "      <th>Sec-Fetch-Mode</th>\n",
       "      <th>path</th>\n",
       "      <th>Te</th>\n",
       "      <th>X-Youtube-Client-Name</th>\n",
       "      <th>...</th>\n",
       "      <th>COOKIE___gid</th>\n",
       "      <th>COOKIE___ga</th>\n",
       "      <th>COOKIE___ga_M7VXWVP0TD</th>\n",
       "      <th>Sec-Fetch-User</th>\n",
       "      <th>COOKIE___ga_VQ1QGHKQ93</th>\n",
       "      <th>COOKIE__AWSALBCORS</th>\n",
       "      <th>COOKIE__AWSALB</th>\n",
       "      <th>COOKIE___gcl_au</th>\n",
       "      <th>COOKIE___ga_3DSEMMB7M5</th>\n",
       "      <th>COOKIE___ga_ES3HMQNR8X</th>\n",
       "    </tr>\n",
       "  </thead>\n",
       "  <tbody>\n",
       "    <tr>\n",
       "      <th>262</th>\n",
       "      <td>NaN</td>\n",
       "      <td>NaN</td>\n",
       "      <td>Mozilla/5.0 (Macintosh; Intel Mac OS X 10.15; ...</td>\n",
       "      <td>empty</td>\n",
       "      <td>gzip, deflate, br</td>\n",
       "      <td>NaN</td>\n",
       "      <td>cors</td>\n",
       "      <td>/log</td>\n",
       "      <td>trailers</td>\n",
       "      <td>NaN</td>\n",
       "      <td>...</td>\n",
       "      <td>NaN</td>\n",
       "      <td>NaN</td>\n",
       "      <td>NaN</td>\n",
       "      <td>NaN</td>\n",
       "      <td>NaN</td>\n",
       "      <td>NaN</td>\n",
       "      <td>NaN</td>\n",
       "      <td>NaN</td>\n",
       "      <td>NaN</td>\n",
       "      <td>NaN</td>\n",
       "    </tr>\n",
       "    <tr>\n",
       "      <th>263</th>\n",
       "      <td>dt=1720147007960&amp;flash=0&amp;frm=2&amp;u_tz=330&amp;u_his=...</td>\n",
       "      <td>JXd_iPLJK9Q</td>\n",
       "      <td>Mozilla/5.0 (Macintosh; Intel Mac OS X 10.15; ...</td>\n",
       "      <td>empty</td>\n",
       "      <td>gzip, deflate, br</td>\n",
       "      <td>Asia/Kolkata</td>\n",
       "      <td>cors</td>\n",
       "      <td>/youtubei/v1/log_event</td>\n",
       "      <td>trailers</td>\n",
       "      <td>56.0</td>\n",
       "      <td>...</td>\n",
       "      <td>NaN</td>\n",
       "      <td>NaN</td>\n",
       "      <td>NaN</td>\n",
       "      <td>NaN</td>\n",
       "      <td>NaN</td>\n",
       "      <td>NaN</td>\n",
       "      <td>NaN</td>\n",
       "      <td>NaN</td>\n",
       "      <td>NaN</td>\n",
       "      <td>NaN</td>\n",
       "    </tr>\n",
       "    <tr>\n",
       "      <th>264</th>\n",
       "      <td>dt=1720145299310&amp;flash=0&amp;frm=2&amp;u_tz=330&amp;u_his=...</td>\n",
       "      <td>JXd_iPLJK9Q</td>\n",
       "      <td>Mozilla/5.0 (Macintosh; Intel Mac OS X 10.15; ...</td>\n",
       "      <td>empty</td>\n",
       "      <td>gzip, deflate, br</td>\n",
       "      <td>Asia/Kolkata</td>\n",
       "      <td>cors</td>\n",
       "      <td>/api/stats/watchtime</td>\n",
       "      <td>trailers</td>\n",
       "      <td>56.0</td>\n",
       "      <td>...</td>\n",
       "      <td>NaN</td>\n",
       "      <td>NaN</td>\n",
       "      <td>NaN</td>\n",
       "      <td>NaN</td>\n",
       "      <td>NaN</td>\n",
       "      <td>NaN</td>\n",
       "      <td>NaN</td>\n",
       "      <td>NaN</td>\n",
       "      <td>NaN</td>\n",
       "      <td>NaN</td>\n",
       "    </tr>\n",
       "    <tr>\n",
       "      <th>265</th>\n",
       "      <td>dt=1720147007960&amp;flash=0&amp;frm=2&amp;u_tz=330&amp;u_his=...</td>\n",
       "      <td>JXd_iPLJK9Q</td>\n",
       "      <td>Mozilla/5.0 (Macintosh; Intel Mac OS X 10.15; ...</td>\n",
       "      <td>empty</td>\n",
       "      <td>gzip, deflate, br</td>\n",
       "      <td>Asia/Kolkata</td>\n",
       "      <td>cors</td>\n",
       "      <td>/youtubei/v1/log_event</td>\n",
       "      <td>trailers</td>\n",
       "      <td>56.0</td>\n",
       "      <td>...</td>\n",
       "      <td>NaN</td>\n",
       "      <td>NaN</td>\n",
       "      <td>NaN</td>\n",
       "      <td>NaN</td>\n",
       "      <td>NaN</td>\n",
       "      <td>NaN</td>\n",
       "      <td>NaN</td>\n",
       "      <td>NaN</td>\n",
       "      <td>NaN</td>\n",
       "      <td>NaN</td>\n",
       "    </tr>\n",
       "    <tr>\n",
       "      <th>266</th>\n",
       "      <td>NaN</td>\n",
       "      <td>NaN</td>\n",
       "      <td>Mozilla/5.0 (Macintosh; Intel Mac OS X 10.15; ...</td>\n",
       "      <td>empty</td>\n",
       "      <td>gzip, deflate, br</td>\n",
       "      <td>NaN</td>\n",
       "      <td>cors</td>\n",
       "      <td>/log</td>\n",
       "      <td>trailers</td>\n",
       "      <td>NaN</td>\n",
       "      <td>...</td>\n",
       "      <td>NaN</td>\n",
       "      <td>NaN</td>\n",
       "      <td>NaN</td>\n",
       "      <td>NaN</td>\n",
       "      <td>NaN</td>\n",
       "      <td>NaN</td>\n",
       "      <td>NaN</td>\n",
       "      <td>NaN</td>\n",
       "      <td>NaN</td>\n",
       "      <td>NaN</td>\n",
       "    </tr>\n",
       "  </tbody>\n",
       "</table>\n",
       "<p>5 rows × 63 columns</p>\n",
       "</div>"
      ],
      "text/plain": [
       "                                  X-Youtube-Ad-Signals  COOKIE__YSC  \\\n",
       "262                                                NaN          NaN   \n",
       "263  dt=1720147007960&flash=0&frm=2&u_tz=330&u_his=...  JXd_iPLJK9Q   \n",
       "264  dt=1720145299310&flash=0&frm=2&u_tz=330&u_his=...  JXd_iPLJK9Q   \n",
       "265  dt=1720147007960&flash=0&frm=2&u_tz=330&u_his=...  JXd_iPLJK9Q   \n",
       "266                                                NaN          NaN   \n",
       "\n",
       "                                            User-Agent Sec-Fetch-Dest  \\\n",
       "262  Mozilla/5.0 (Macintosh; Intel Mac OS X 10.15; ...          empty   \n",
       "263  Mozilla/5.0 (Macintosh; Intel Mac OS X 10.15; ...          empty   \n",
       "264  Mozilla/5.0 (Macintosh; Intel Mac OS X 10.15; ...          empty   \n",
       "265  Mozilla/5.0 (Macintosh; Intel Mac OS X 10.15; ...          empty   \n",
       "266  Mozilla/5.0 (Macintosh; Intel Mac OS X 10.15; ...          empty   \n",
       "\n",
       "       Accept-Encoding X-Youtube-Time-Zone Sec-Fetch-Mode  \\\n",
       "262  gzip, deflate, br                 NaN           cors   \n",
       "263  gzip, deflate, br        Asia/Kolkata           cors   \n",
       "264  gzip, deflate, br        Asia/Kolkata           cors   \n",
       "265  gzip, deflate, br        Asia/Kolkata           cors   \n",
       "266  gzip, deflate, br                 NaN           cors   \n",
       "\n",
       "                       path        Te  X-Youtube-Client-Name  ...  \\\n",
       "262                    /log  trailers                    NaN  ...   \n",
       "263  /youtubei/v1/log_event  trailers                   56.0  ...   \n",
       "264    /api/stats/watchtime  trailers                   56.0  ...   \n",
       "265  /youtubei/v1/log_event  trailers                   56.0  ...   \n",
       "266                    /log  trailers                    NaN  ...   \n",
       "\n",
       "    COOKIE___gid  COOKIE___ga  COOKIE___ga_M7VXWVP0TD Sec-Fetch-User  \\\n",
       "262          NaN          NaN                     NaN            NaN   \n",
       "263          NaN          NaN                     NaN            NaN   \n",
       "264          NaN          NaN                     NaN            NaN   \n",
       "265          NaN          NaN                     NaN            NaN   \n",
       "266          NaN          NaN                     NaN            NaN   \n",
       "\n",
       "    COOKIE___ga_VQ1QGHKQ93 COOKIE__AWSALBCORS COOKIE__AWSALB COOKIE___gcl_au  \\\n",
       "262                    NaN                NaN            NaN             NaN   \n",
       "263                    NaN                NaN            NaN             NaN   \n",
       "264                    NaN                NaN            NaN             NaN   \n",
       "265                    NaN                NaN            NaN             NaN   \n",
       "266                    NaN                NaN            NaN             NaN   \n",
       "\n",
       "    COOKIE___ga_3DSEMMB7M5 COOKIE___ga_ES3HMQNR8X  \n",
       "262                    NaN                    NaN  \n",
       "263                    NaN                    NaN  \n",
       "264                    NaN                    NaN  \n",
       "265                    NaN                    NaN  \n",
       "266                    NaN                    NaN  \n",
       "\n",
       "[5 rows x 63 columns]"
      ]
     },
     "execution_count": 4,
     "metadata": {},
     "output_type": "execute_result"
    }
   ],
   "source": [
    "df.tail()\n"
   ]
  },
  {
   "cell_type": "code",
   "execution_count": 5,
   "id": "67a8e574-0ce5-4eb5-be70-c8ae42ab443a",
   "metadata": {},
   "outputs": [
    {
     "data": {
      "text/plain": [
       "Index(['X-Youtube-Ad-Signals', 'COOKIE__YSC', 'User-Agent', 'Sec-Fetch-Dest',\n",
       "       'Accept-Encoding', 'X-Youtube-Time-Zone', 'Sec-Fetch-Mode', 'path',\n",
       "       'Te', 'X-Youtube-Client-Name', 'query_param', 'X-Youtube-Utc-Offset',\n",
       "       'http-version', 'COOKIE__VISITOR_PRIVACY_METADATA',\n",
       "       'COOKIE__VISITOR_INFO1_LIVE', 'method', 'Accept', 'Referer',\n",
       "       'Sec-Fetch-Site', 'Host', 'X-Goog-Visitor-Id', 'COOKIE__PREF',\n",
       "       'Accept-Language', 'X-Youtube-Client-Version', 'Origin', 'Priority',\n",
       "       'Connection', 'Pragma', 'Cache-Control', 'Content-Length',\n",
       "       'X-Goog-Event-Time', 'X-Goog-Request-Time', 'Content-Type',\n",
       "       'X-Youtube-Bootstrap-Logged-In', 'X-Youtube-Device',\n",
       "       'X-Youtube-Page-Label', 'X-Youtube-Page-Cl', 'COOKIE__GPS',\n",
       "       'COOKIE__CONSISTENCY', 'COOKIE__NID', 'X-Goog-Authuser',\n",
       "       'Upgrade-Insecure-Requests', 'Service-Worker-Navigation-Preload',\n",
       "       'Service-Worker', 'Content-Encoding', 'X-User-Agent', 'X-Goog-Api-Key',\n",
       "       '\bpu'WóÁ¤ç©frÁ\u0004´L^¶3\u000fÉVåu1k>hüª\n",
       "ß<Síd»nÜ7óªÄ\u0001é\u00018[\b¼Ö%ð·7oTáâø3ÀÉv±·îëÚ(7-(¾æÉ÷{V\u0014\u0001§=dt?Z\u0004kDÆ\"\bÀK}ÝYÄÃ.;\n",
       "Ø¦õ',\n",
       "       'COOKIE__ST-1b', 'X-Http-Method-Override', 'COOKIE__ST-13dbhy1',\n",
       "       'Range', 'COOKIE__test_cookie', 'COOKIE___gid', 'COOKIE___ga',\n",
       "       'COOKIE___ga_M7VXWVP0TD', 'Sec-Fetch-User', 'COOKIE___ga_VQ1QGHKQ93',\n",
       "       'COOKIE__AWSALBCORS', 'COOKIE__AWSALB', 'COOKIE___gcl_au',\n",
       "       'COOKIE___ga_3DSEMMB7M5', 'COOKIE___ga_ES3HMQNR8X'],\n",
       "      dtype='object')"
      ]
     },
     "execution_count": 5,
     "metadata": {},
     "output_type": "execute_result"
    }
   ],
   "source": [
    "df.columns"
   ]
  },
  {
   "cell_type": "code",
   "execution_count": 6,
   "id": "88164c00-b5a6-42c7-808f-f53d13d1be76",
   "metadata": {},
   "outputs": [
    {
     "name": "stdout",
     "output_type": "stream",
     "text": [
      "X-Youtube-Ad-Signals\n",
      "COOKIE__YSC\n",
      "User-Agent\n",
      "Sec-Fetch-Dest\n",
      "Accept-Encoding\n",
      "X-Youtube-Time-Zone\n",
      "Sec-Fetch-Mode\n",
      "path\n",
      "Te\n",
      "X-Youtube-Client-Name\n",
      "query_param\n",
      "X-Youtube-Utc-Offset\n",
      "http-version\n",
      "COOKIE__VISITOR_PRIVACY_METADATA\n",
      "COOKIE__VISITOR_INFO1_LIVE\n",
      "method\n",
      "Accept\n",
      "Referer\n",
      "Sec-Fetch-Site\n",
      "Host\n",
      "X-Goog-Visitor-Id\n",
      "COOKIE__PREF\n",
      "Accept-Language\n",
      "X-Youtube-Client-Version\n",
      "Origin\n",
      "Priority\n",
      "Connection\n",
      "Pragma\n",
      "Cache-Control\n",
      "Content-Length\n",
      "X-Goog-Event-Time\n",
      "X-Goog-Request-Time\n",
      "Content-Type\n",
      "X-Youtube-Bootstrap-Logged-In\n",
      "X-Youtube-Device\n",
      "X-Youtube-Page-Label\n",
      "X-Youtube-Page-Cl\n",
      "COOKIE__GPS\n",
      "COOKIE__CONSISTENCY\n",
      "COOKIE__NID\n",
      "X-Goog-Authuser\n",
      "Upgrade-Insecure-Requests\n",
      "Service-Worker-Navigation-Preload\n",
      "Service-Worker\n",
      "Content-Encoding\n",
      "X-User-Agent\n",
      "X-Goog-Api-Key\n",
      "\bpu'WóÁ¤ç©frÁ\u0004´L^¶3\u000fÉVåu1k>hüª\u001c",
      "ß<Síd»nÜ7óªÄ\u0001é\u00018[¼Ö%ð·7oTáâø3ÀÉv±·îëÚ(7-(¾æÉ÷{V\u0014\u0001§=dt?Z\u0004kDÆÀK}ÝYÄÃ.;\u001c",
      "Ø¦õ\n",
      "COOKIE__ST-1b\n",
      "X-Http-Method-Override\n",
      "COOKIE__ST-13dbhy1\n",
      "Range\n",
      "COOKIE__test_cookie\n",
      "COOKIE___gid\n",
      "COOKIE___ga\n",
      "COOKIE___ga_M7VXWVP0TD\n",
      "Sec-Fetch-User\n",
      "COOKIE___ga_VQ1QGHKQ93\n",
      "COOKIE__AWSALBCORS\n",
      "COOKIE__AWSALB\n",
      "COOKIE___gcl_au\n",
      "COOKIE___ga_3DSEMMB7M5\n",
      "COOKIE___ga_ES3HMQNR8X\n"
     ]
    }
   ],
   "source": [
    "for col in df.columns:\n",
    "    print(col)"
   ]
  },
  {
   "cell_type": "code",
   "execution_count": 7,
   "id": "e04dce44-c563-4ed8-a02c-34f7efe84737",
   "metadata": {},
   "outputs": [
    {
     "data": {
      "text/plain": [
       "array(['www.youtube.com', 'rr3---sn-gwpa-qxaz.googlevideo.com',\n",
       "       'play.google.com', 'rr5---sn-gwpa-qxae7.googlevideo.com',\n",
       "       'i.ytimg.com', 'googleads.g.doubleclick.net', 'www.google.co.in',\n",
       "       'www.google.com', 'jnn-pa.googleapis.com',\n",
       "       'rr1---sn-ntqe6n76.googlevideo.com',\n",
       "       'rr6---sn-gwpa-qxak.googlevideo.com',\n",
       "       'rr1---sn-q4fl6nds.googlevideo.com', 'yt3.ggpht.com',\n",
       "       'safebrowsing.googleapis.com', 'www.gstatic.com', 'i9.ytimg.com',\n",
       "       'rr1---sn-gwpa-qxay.googlevideo.com',\n",
       "       'rr4---sn-gwpa-qxay.googlevideo.com', 'fonts.gstatic.com',\n",
       "       'rr8---sn-gwpa-qxay.googlevideo.com',\n",
       "       'rr2---sn-q4fl6nd7.googlevideo.com',\n",
       "       'rr7---sn-gwpa-qxae7.googlevideo.com',\n",
       "       'rr3---sn-gwpa-qxae7.googlevideo.com', 'px.ads.linkedin.com',\n",
       "       'partner.expediagroup.com', 'www.google-analytics.com'],\n",
       "      dtype=object)"
      ]
     },
     "execution_count": 7,
     "metadata": {},
     "output_type": "execute_result"
    }
   ],
   "source": [
    "df[\"Host\"].unique()"
   ]
  },
  {
   "cell_type": "code",
   "execution_count": 8,
   "id": "022a12d9-bfb2-46c3-bb93-03dca805f7f0",
   "metadata": {},
   "outputs": [
    {
     "data": {
      "text/plain": [
       "26"
      ]
     },
     "execution_count": 8,
     "metadata": {},
     "output_type": "execute_result"
    }
   ],
   "source": [
    "df[\"Host\"].nunique()"
   ]
  },
  {
   "cell_type": "code",
   "execution_count": 9,
   "id": "f3b7b13d-986d-4c7b-90cd-994cb3f85ba8",
   "metadata": {},
   "outputs": [
    {
     "data": {
      "text/plain": [
       "1"
      ]
     },
     "execution_count": 9,
     "metadata": {},
     "output_type": "execute_result"
    }
   ],
   "source": [
    "df['Accept-Encoding'].nunique()"
   ]
  },
  {
   "cell_type": "code",
   "execution_count": 10,
   "id": "c23d4b85-1ddd-4531-bbea-707d37f12fad",
   "metadata": {},
   "outputs": [
    {
     "data": {
      "text/plain": [
       "array(['cors', 'navigate', 'no-cors', 'same-origin'], dtype=object)"
      ]
     },
     "execution_count": 10,
     "metadata": {},
     "output_type": "execute_result"
    }
   ],
   "source": [
    "df[\"Sec-Fetch-Mode\"].unique()"
   ]
  },
  {
   "cell_type": "code",
   "execution_count": 11,
   "id": "9ca9d174-7fcf-4450-a287-83091d8e5e92",
   "metadata": {},
   "outputs": [
    {
     "data": {
      "text/plain": [
       "[]"
      ]
     },
     "execution_count": 11,
     "metadata": {},
     "output_type": "execute_result"
    }
   ],
   "source": [
    "[host for host in df['Host'].unique() if 'evernote' in host]"
   ]
  },
  {
   "cell_type": "code",
   "execution_count": 12,
   "id": "07391422-cb68-4d8a-8d66-8b2c2d75e8a4",
   "metadata": {},
   "outputs": [
    {
     "data": {
      "text/html": [
       "<div>\n",
       "<style scoped>\n",
       "    .dataframe tbody tr th:only-of-type {\n",
       "        vertical-align: middle;\n",
       "    }\n",
       "\n",
       "    .dataframe tbody tr th {\n",
       "        vertical-align: top;\n",
       "    }\n",
       "\n",
       "    .dataframe thead th {\n",
       "        text-align: right;\n",
       "    }\n",
       "</style>\n",
       "<table border=\"1\" class=\"dataframe\">\n",
       "  <thead>\n",
       "    <tr style=\"text-align: right;\">\n",
       "      <th></th>\n",
       "      <th>X-Youtube-Ad-Signals</th>\n",
       "      <th>COOKIE__YSC</th>\n",
       "      <th>User-Agent</th>\n",
       "      <th>Sec-Fetch-Dest</th>\n",
       "      <th>Accept-Encoding</th>\n",
       "      <th>X-Youtube-Time-Zone</th>\n",
       "      <th>Sec-Fetch-Mode</th>\n",
       "      <th>path</th>\n",
       "      <th>Te</th>\n",
       "      <th>X-Youtube-Client-Name</th>\n",
       "      <th>...</th>\n",
       "      <th>COOKIE___gid</th>\n",
       "      <th>COOKIE___ga</th>\n",
       "      <th>COOKIE___ga_M7VXWVP0TD</th>\n",
       "      <th>Sec-Fetch-User</th>\n",
       "      <th>COOKIE___ga_VQ1QGHKQ93</th>\n",
       "      <th>COOKIE__AWSALBCORS</th>\n",
       "      <th>COOKIE__AWSALB</th>\n",
       "      <th>COOKIE___gcl_au</th>\n",
       "      <th>COOKIE___ga_3DSEMMB7M5</th>\n",
       "      <th>COOKIE___ga_ES3HMQNR8X</th>\n",
       "    </tr>\n",
       "  </thead>\n",
       "  <tbody>\n",
       "  </tbody>\n",
       "</table>\n",
       "<p>0 rows × 63 columns</p>\n",
       "</div>"
      ],
      "text/plain": [
       "Empty DataFrame\n",
       "Columns: [X-Youtube-Ad-Signals, COOKIE__YSC, User-Agent, Sec-Fetch-Dest, Accept-Encoding, X-Youtube-Time-Zone, Sec-Fetch-Mode, path, Te, X-Youtube-Client-Name, query_param, X-Youtube-Utc-Offset, http-version, COOKIE__VISITOR_PRIVACY_METADATA, COOKIE__VISITOR_INFO1_LIVE, method, Accept, Referer, Sec-Fetch-Site, Host, X-Goog-Visitor-Id, COOKIE__PREF, Accept-Language, X-Youtube-Client-Version, Origin, Priority, Connection, Pragma, Cache-Control, Content-Length, X-Goog-Event-Time, X-Goog-Request-Time, Content-Type, X-Youtube-Bootstrap-Logged-In, X-Youtube-Device, X-Youtube-Page-Label, X-Youtube-Page-Cl, COOKIE__GPS, COOKIE__CONSISTENCY, COOKIE__NID, X-Goog-Authuser, Upgrade-Insecure-Requests, Service-Worker-Navigation-Preload, Service-Worker, Content-Encoding, X-User-Agent, X-Goog-Api-Key, \bpu'WóÁ¤ç©frÁ\u0004´L^¶3\u000fÉVåu1k>hüª\n",
       "ß<Síd»nÜ7óªÄ\u0001é\u00018[\b¼Ö%ð·7oTáâø3ÀÉv±·îëÚ(7-(¾æÉ÷{V\u0014\u0001§=dt?Z\u0004kDÆ\"\bÀK}ÝYÄÃ.;\n",
       "Ø¦õ, COOKIE__ST-1b, X-Http-Method-Override, COOKIE__ST-13dbhy1, Range, COOKIE__test_cookie, COOKIE___gid, COOKIE___ga, COOKIE___ga_M7VXWVP0TD, Sec-Fetch-User, COOKIE___ga_VQ1QGHKQ93, COOKIE__AWSALBCORS, COOKIE__AWSALB, COOKIE___gcl_au, COOKIE___ga_3DSEMMB7M5, COOKIE___ga_ES3HMQNR8X]\n",
       "Index: []\n",
       "\n",
       "[0 rows x 63 columns]"
      ]
     },
     "execution_count": 12,
     "metadata": {},
     "output_type": "execute_result"
    }
   ],
   "source": [
    "df[df['Host'].str.contains('api.evernote.com')]"
   ]
  },
  {
   "cell_type": "code",
   "execution_count": 13,
   "id": "ceca4a64-d97e-450d-a9cf-07bfc6792603",
   "metadata": {},
   "outputs": [
    {
     "data": {
      "text/html": [
       "<div>\n",
       "<style scoped>\n",
       "    .dataframe tbody tr th:only-of-type {\n",
       "        vertical-align: middle;\n",
       "    }\n",
       "\n",
       "    .dataframe tbody tr th {\n",
       "        vertical-align: top;\n",
       "    }\n",
       "\n",
       "    .dataframe thead th {\n",
       "        text-align: right;\n",
       "    }\n",
       "</style>\n",
       "<table border=\"1\" class=\"dataframe\">\n",
       "  <thead>\n",
       "    <tr style=\"text-align: right;\">\n",
       "      <th></th>\n",
       "      <th>X-Youtube-Ad-Signals</th>\n",
       "      <th>COOKIE__YSC</th>\n",
       "      <th>User-Agent</th>\n",
       "      <th>Sec-Fetch-Dest</th>\n",
       "      <th>Accept-Encoding</th>\n",
       "      <th>X-Youtube-Time-Zone</th>\n",
       "      <th>Sec-Fetch-Mode</th>\n",
       "      <th>path</th>\n",
       "      <th>Te</th>\n",
       "      <th>X-Youtube-Client-Name</th>\n",
       "      <th>...</th>\n",
       "      <th>COOKIE___gid</th>\n",
       "      <th>COOKIE___ga</th>\n",
       "      <th>COOKIE___ga_M7VXWVP0TD</th>\n",
       "      <th>Sec-Fetch-User</th>\n",
       "      <th>COOKIE___ga_VQ1QGHKQ93</th>\n",
       "      <th>COOKIE__AWSALBCORS</th>\n",
       "      <th>COOKIE__AWSALB</th>\n",
       "      <th>COOKIE___gcl_au</th>\n",
       "      <th>COOKIE___ga_3DSEMMB7M5</th>\n",
       "      <th>COOKIE___ga_ES3HMQNR8X</th>\n",
       "    </tr>\n",
       "    <tr>\n",
       "      <th>Host</th>\n",
       "      <th></th>\n",
       "      <th></th>\n",
       "      <th></th>\n",
       "      <th></th>\n",
       "      <th></th>\n",
       "      <th></th>\n",
       "      <th></th>\n",
       "      <th></th>\n",
       "      <th></th>\n",
       "      <th></th>\n",
       "      <th></th>\n",
       "      <th></th>\n",
       "      <th></th>\n",
       "      <th></th>\n",
       "      <th></th>\n",
       "      <th></th>\n",
       "      <th></th>\n",
       "      <th></th>\n",
       "      <th></th>\n",
       "      <th></th>\n",
       "      <th></th>\n",
       "    </tr>\n",
       "  </thead>\n",
       "  <tbody>\n",
       "  </tbody>\n",
       "</table>\n",
       "<p>0 rows × 62 columns</p>\n",
       "</div>"
      ],
      "text/plain": [
       "Empty DataFrame\n",
       "Columns: [X-Youtube-Ad-Signals, COOKIE__YSC, User-Agent, Sec-Fetch-Dest, Accept-Encoding, X-Youtube-Time-Zone, Sec-Fetch-Mode, path, Te, X-Youtube-Client-Name, query_param, X-Youtube-Utc-Offset, http-version, COOKIE__VISITOR_PRIVACY_METADATA, COOKIE__VISITOR_INFO1_LIVE, method, Accept, Referer, Sec-Fetch-Site, X-Goog-Visitor-Id, COOKIE__PREF, Accept-Language, X-Youtube-Client-Version, Origin, Priority, Connection, Pragma, Cache-Control, Content-Length, X-Goog-Event-Time, X-Goog-Request-Time, Content-Type, X-Youtube-Bootstrap-Logged-In, X-Youtube-Device, X-Youtube-Page-Label, X-Youtube-Page-Cl, COOKIE__GPS, COOKIE__CONSISTENCY, COOKIE__NID, X-Goog-Authuser, Upgrade-Insecure-Requests, Service-Worker-Navigation-Preload, Service-Worker, Content-Encoding, X-User-Agent, X-Goog-Api-Key, \bpu'WóÁ¤ç©frÁ\u0004´L^¶3\u000fÉVåu1k>hüª\n",
       "ß<Síd»nÜ7óªÄ\u0001é\u00018[\b¼Ö%ð·7oTáâø3ÀÉv±·îëÚ(7-(¾æÉ÷{V\u0014\u0001§=dt?Z\u0004kDÆ\"\bÀK}ÝYÄÃ.;\n",
       "Ø¦õ, COOKIE__ST-1b, X-Http-Method-Override, COOKIE__ST-13dbhy1, Range, COOKIE__test_cookie, COOKIE___gid, COOKIE___ga, COOKIE___ga_M7VXWVP0TD, Sec-Fetch-User, COOKIE___ga_VQ1QGHKQ93, COOKIE__AWSALBCORS, COOKIE__AWSALB, COOKIE___gcl_au, COOKIE___ga_3DSEMMB7M5, COOKIE___ga_ES3HMQNR8X]\n",
       "Index: []\n",
       "\n",
       "[0 rows x 62 columns]"
      ]
     },
     "execution_count": 13,
     "metadata": {},
     "output_type": "execute_result"
    }
   ],
   "source": [
    "df[df['Host'].str.contains('evernote.com')].groupby('Host').first()"
   ]
  },
  {
   "cell_type": "code",
   "execution_count": 14,
   "id": "4b319546-445b-4b51-a31a-898ffc343228",
   "metadata": {},
   "outputs": [
    {
     "data": {
      "text/plain": [
       "(1, 62)"
      ]
     },
     "execution_count": 14,
     "metadata": {},
     "output_type": "execute_result"
    }
   ],
   "source": [
    "df[df['Host'].str.contains('youtube.com')].groupby('Host').first().shape"
   ]
  },
  {
   "cell_type": "code",
   "execution_count": 15,
   "id": "7e0c92f4-ea00-4a98-9923-df645528be12",
   "metadata": {},
   "outputs": [
    {
     "data": {
      "text/plain": [
       "(267,)"
      ]
     },
     "execution_count": 15,
     "metadata": {},
     "output_type": "execute_result"
    }
   ],
   "source": [
    "df['Host'].shape"
   ]
  },
  {
   "cell_type": "code",
   "execution_count": 16,
   "id": "d7e2a61a-ed9f-4923-b4c7-f22ba820b810",
   "metadata": {},
   "outputs": [
    {
     "data": {
      "text/plain": [
       "(6, 63)"
      ]
     },
     "execution_count": 16,
     "metadata": {},
     "output_type": "execute_result"
    }
   ],
   "source": [
    "df[df[\"Referer\"].isnull()].shape"
   ]
  },
  {
   "cell_type": "code",
   "execution_count": 17,
   "id": "f3f26db3-4a19-485b-b258-30453160bacf",
   "metadata": {},
   "outputs": [
    {
     "data": {
      "text/plain": [
       "(267, 63)"
      ]
     },
     "execution_count": 17,
     "metadata": {},
     "output_type": "execute_result"
    }
   ],
   "source": [
    "df.shape"
   ]
  },
  {
   "cell_type": "code",
   "execution_count": 18,
   "id": "044a8642-5b0e-4000-a530-d21f2bd354a9",
   "metadata": {},
   "outputs": [],
   "source": [
    "path_lengths = df['path'].str.len()"
   ]
  },
  {
   "cell_type": "code",
   "execution_count": 19,
   "id": "b43e5d1e-118f-48a5-8679-bb70bcbcb069",
   "metadata": {},
   "outputs": [
    {
     "data": {
      "text/plain": [
       "np.int64(104)"
      ]
     },
     "execution_count": 19,
     "metadata": {},
     "output_type": "execute_result"
    }
   ],
   "source": [
    "path_lengths.max()"
   ]
  },
  {
   "cell_type": "code",
   "execution_count": 20,
   "id": "4a3a6a4e-01df-4749-972d-f5e866aa5f33",
   "metadata": {},
   "outputs": [
    {
     "data": {
      "text/plain": [
       "np.int64(4)"
      ]
     },
     "execution_count": 20,
     "metadata": {},
     "output_type": "execute_result"
    }
   ],
   "source": [
    "path_lengths.min()"
   ]
  },
  {
   "cell_type": "code",
   "execution_count": 21,
   "id": "7ddc8ef1-8898-45c4-9a6f-89924cfc8aab",
   "metadata": {},
   "outputs": [
    {
     "data": {
      "text/plain": [
       "Series([], Name: path, dtype: object)"
      ]
     },
     "execution_count": 21,
     "metadata": {},
     "output_type": "execute_result"
    }
   ],
   "source": [
    "df[df['path'].str.len()==1]['path']"
   ]
  },
  {
   "cell_type": "code",
   "execution_count": 22,
   "id": "43ebba82-65a4-47b2-bf11-f18920ff4d3c",
   "metadata": {},
   "outputs": [],
   "source": [
    "max_length_paths = df[df['path'].str.len()==df['path'].str.len().max()][['path', 'Host']]"
   ]
  },
  {
   "cell_type": "code",
   "execution_count": 23,
   "id": "bb1a178f-7b9d-4aac-92d1-d89e2e2cfc39",
   "metadata": {},
   "outputs": [
    {
     "name": "stdout",
     "output_type": "stream",
     "text": [
      "                                                                                                         path  \\\n",
      "105  /youtube/img/promos/growth/66791a059c65ca71aa12bc0794bde4db4e42baa448161acd3bb02a6aadbfaf27_1440x810.png   \n",
      "\n",
      "                Host  \n",
      "105  www.gstatic.com  \n"
     ]
    }
   ],
   "source": [
    "with pd.option_context('display.max_colwidth', None):\n",
    "    print(max_length_paths)"
   ]
  },
  {
   "cell_type": "code",
   "execution_count": null,
   "id": "068a132e-3306-4a97-8c51-b651119cec30",
   "metadata": {},
   "outputs": [],
   "source": []
  }
 ],
 "metadata": {
  "kernelspec": {
   "display_name": "Python 3 (ipykernel)",
   "language": "python",
   "name": "python3"
  },
  "language_info": {
   "codemirror_mode": {
    "name": "ipython",
    "version": 3
   },
   "file_extension": ".py",
   "mimetype": "text/x-python",
   "name": "python",
   "nbconvert_exporter": "python",
   "pygments_lexer": "ipython3",
   "version": "3.9.6"
  }
 },
 "nbformat": 4,
 "nbformat_minor": 5
}
